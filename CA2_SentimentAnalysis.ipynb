{
 "cells": [
  {
   "cell_type": "markdown",
   "id": "569156b0",
   "metadata": {},
   "source": [
    "# Sentiment Analysis"
   ]
  },
  {
   "cell_type": "code",
   "execution_count": 264,
   "id": "fa8dcdee",
   "metadata": {},
   "outputs": [
    {
     "name": "stderr",
     "output_type": "stream",
     "text": [
      "[nltk_data] Downloading package stopwords to\n",
      "[nltk_data]     C:\\Users\\blancc2\\AppData\\Roaming\\nltk_data...\n",
      "[nltk_data]   Package stopwords is already up-to-date!\n"
     ]
    }
   ],
   "source": [
    "from dotenv import dotenv_values\n",
    "import requests\n",
    "import json\n",
    "import tweepy\n",
    "\n",
    "import pandas as pd\n",
    "import numpy as np\n",
    "import seaborn as sns\n",
    "from pathlib import Path\n",
    "import re\n",
    "import string\n",
    "from string import punctuation\n",
    "import nltk\n",
    "from nltk.corpus import stopwords\n",
    "nltk.download('stopwords')\n",
    "\n",
    "\n",
    "import matplotlib.pyplot as plt\n",
    "from sklearn.model_selection import train_test_split\n",
    "from sklearn.feature_extraction.text import CountVectorizer\n",
    "from sklearn.feature_extraction.text import TfidfTransformer\n",
    "\n",
    "import tensorflow as tf\n",
    "from tensorflow.keras.models import Sequential\n",
    "from tensorflow.keras.layers import Dense, Activation, Dropout\n",
    "from tensorflow.keras.callbacks import EarlyStopping"
   ]
  },
  {
   "cell_type": "code",
   "execution_count": 265,
   "id": "18f2c5fc",
   "metadata": {},
   "outputs": [],
   "source": [
    "config = dotenv_values(\".env\")\n",
    "\n",
    "bearer_token = config[\"BEARER_TOKEN\"]\n",
    "consumer_key = config[\"API_KEY\"]\n",
    "consumer_secret = config[\"API_KEY_SECRET\"]"
   ]
  },
  {
   "cell_type": "code",
   "execution_count": 266,
   "id": "a12d44ab",
   "metadata": {},
   "outputs": [],
   "source": [
    "tweets_folder = Path(\"data/Tweets_Data\")"
   ]
  },
  {
   "cell_type": "code",
   "execution_count": 267,
   "id": "f3400745",
   "metadata": {},
   "outputs": [],
   "source": [
    "#print(config[\"API_KEY\"])"
   ]
  },
  {
   "cell_type": "code",
   "execution_count": 268,
   "id": "da210b47",
   "metadata": {},
   "outputs": [],
   "source": [
    "client = tweepy.Client( bearer_token=bearer_token, \n",
    "                        consumer_key=consumer_key, \n",
    "                        consumer_secret=consumer_secret, \n",
    "                        return_type = requests.Response,\n",
    "                        wait_on_rate_limit=True)"
   ]
  },
  {
   "cell_type": "code",
   "execution_count": 269,
   "id": "bcc32fbb",
   "metadata": {},
   "outputs": [],
   "source": [
    "def search_agricultural_tweets(country_name,max_results=100):\n",
    "    \n",
    "    if country_name is None: \n",
    "        tweets = client.search_recent_tweets(query=\"((agricultural) OR (agriculture)) lang:en -is:retweet\", \n",
    "                                    tweet_fields=['author_id', 'created_at'],\n",
    "                                     max_results=max_results)\n",
    "    else:\n",
    "        tweets = client.search_recent_tweets(query=\"((agricultural) OR (agriculture)) (\"+country_name+\") lang:en -is:retweet\", \n",
    "                                        tweet_fields=['author_id', 'created_at'],\n",
    "                                         max_results=max_results)\n",
    "    tweets_dict = tweets.json()\n",
    "    tweets_data = tweets_dict['data']\n",
    "    return pd.json_normalize(tweets_data)    "
   ]
  },
  {
   "cell_type": "code",
   "execution_count": 270,
   "id": "48f38497",
   "metadata": {},
   "outputs": [],
   "source": [
    "max_results=100\n",
    "country1 = 'Ireland'\n",
    "\n",
    "tweets_c1_df = search_agricultural_tweets(country1, max_results)\n",
    "tweets_c2_df = search_agricultural_tweets(None, max_results)"
   ]
  },
  {
   "cell_type": "code",
   "execution_count": 271,
   "id": "78997103",
   "metadata": {},
   "outputs": [],
   "source": [
    "#Citation: Go, A., Bhayani, R. and Huang, L., 2009. Twitter sentiment classification using distant supervision. CS224N Project Report, Stanford, 1(2009), p.12."
   ]
  },
  {
   "cell_type": "code",
   "execution_count": 343,
   "id": "5a6bb1ac",
   "metadata": {},
   "outputs": [],
   "source": [
    "#target: the polarity of the tweet (0 = negative, 2 = neutral, 4 = positive)\n",
    "tweets_train_df = pd.read_csv(tweets_folder /\"tweets_sentiment.csv\", encoding='latin-1', names=[\"sentiment\", \"id\", \"date\", \"flag\", \"user\", \"text\"])"
   ]
  },
  {
   "cell_type": "code",
   "execution_count": 344,
   "id": "9aa746f6",
   "metadata": {},
   "outputs": [
    {
     "data": {
      "text/html": [
       "<div>\n",
       "<style scoped>\n",
       "    .dataframe tbody tr th:only-of-type {\n",
       "        vertical-align: middle;\n",
       "    }\n",
       "\n",
       "    .dataframe tbody tr th {\n",
       "        vertical-align: top;\n",
       "    }\n",
       "\n",
       "    .dataframe thead th {\n",
       "        text-align: right;\n",
       "    }\n",
       "</style>\n",
       "<table border=\"1\" class=\"dataframe\">\n",
       "  <thead>\n",
       "    <tr style=\"text-align: right;\">\n",
       "      <th></th>\n",
       "      <th>sentiment</th>\n",
       "      <th>id</th>\n",
       "      <th>date</th>\n",
       "      <th>flag</th>\n",
       "      <th>user</th>\n",
       "      <th>text</th>\n",
       "    </tr>\n",
       "  </thead>\n",
       "  <tbody>\n",
       "    <tr>\n",
       "      <th>0</th>\n",
       "      <td>0</td>\n",
       "      <td>1467810369</td>\n",
       "      <td>Mon Apr 06 22:19:45 PDT 2009</td>\n",
       "      <td>NO_QUERY</td>\n",
       "      <td>_TheSpecialOne_</td>\n",
       "      <td>@switchfoot http://twitpic.com/2y1zl - Awww, t...</td>\n",
       "    </tr>\n",
       "    <tr>\n",
       "      <th>1</th>\n",
       "      <td>0</td>\n",
       "      <td>1467810672</td>\n",
       "      <td>Mon Apr 06 22:19:49 PDT 2009</td>\n",
       "      <td>NO_QUERY</td>\n",
       "      <td>scotthamilton</td>\n",
       "      <td>is upset that he can't update his Facebook by ...</td>\n",
       "    </tr>\n",
       "    <tr>\n",
       "      <th>2</th>\n",
       "      <td>0</td>\n",
       "      <td>1467810917</td>\n",
       "      <td>Mon Apr 06 22:19:53 PDT 2009</td>\n",
       "      <td>NO_QUERY</td>\n",
       "      <td>mattycus</td>\n",
       "      <td>@Kenichan I dived many times for the ball. Man...</td>\n",
       "    </tr>\n",
       "    <tr>\n",
       "      <th>3</th>\n",
       "      <td>0</td>\n",
       "      <td>1467811184</td>\n",
       "      <td>Mon Apr 06 22:19:57 PDT 2009</td>\n",
       "      <td>NO_QUERY</td>\n",
       "      <td>ElleCTF</td>\n",
       "      <td>my whole body feels itchy and like its on fire</td>\n",
       "    </tr>\n",
       "    <tr>\n",
       "      <th>4</th>\n",
       "      <td>0</td>\n",
       "      <td>1467811193</td>\n",
       "      <td>Mon Apr 06 22:19:57 PDT 2009</td>\n",
       "      <td>NO_QUERY</td>\n",
       "      <td>Karoli</td>\n",
       "      <td>@nationwideclass no, it's not behaving at all....</td>\n",
       "    </tr>\n",
       "  </tbody>\n",
       "</table>\n",
       "</div>"
      ],
      "text/plain": [
       "   sentiment          id                          date      flag  \\\n",
       "0          0  1467810369  Mon Apr 06 22:19:45 PDT 2009  NO_QUERY   \n",
       "1          0  1467810672  Mon Apr 06 22:19:49 PDT 2009  NO_QUERY   \n",
       "2          0  1467810917  Mon Apr 06 22:19:53 PDT 2009  NO_QUERY   \n",
       "3          0  1467811184  Mon Apr 06 22:19:57 PDT 2009  NO_QUERY   \n",
       "4          0  1467811193  Mon Apr 06 22:19:57 PDT 2009  NO_QUERY   \n",
       "\n",
       "              user                                               text  \n",
       "0  _TheSpecialOne_  @switchfoot http://twitpic.com/2y1zl - Awww, t...  \n",
       "1    scotthamilton  is upset that he can't update his Facebook by ...  \n",
       "2         mattycus  @Kenichan I dived many times for the ball. Man...  \n",
       "3          ElleCTF    my whole body feels itchy and like its on fire   \n",
       "4           Karoli  @nationwideclass no, it's not behaving at all....  "
      ]
     },
     "execution_count": 344,
     "metadata": {},
     "output_type": "execute_result"
    }
   ],
   "source": [
    "tweets_train_df.head()"
   ]
  },
  {
   "cell_type": "code",
   "execution_count": 345,
   "id": "726e688f",
   "metadata": {},
   "outputs": [
    {
     "data": {
      "image/png": "[encoded data removed]",
      "text/plain": [
       "<Figure size 1000x500 with 1 Axes>"
      ]
     },
     "metadata": {},
     "output_type": "display_data"
    }
   ],
   "source": [
    "plt.figure(figsize=(10,5))\n",
    "g = sns.countplot(x='sentiment',data=tweets_train_df, palette='Blues');\n",
    "g.set_title('Sentiment Analysis on Training Dataset')\n",
    "\n",
    "plt.show();\n",
    "\n"
   ]
  },
  {
   "cell_type": "code",
   "execution_count": 309,
   "id": "fdea2efa",
   "metadata": {},
   "outputs": [],
   "source": [
    "#Data balanced.\n",
    "\n",
    "def get_text_processing(text):\n",
    "    #Remove any user mention (word starting by \"@\")\n",
    "    no_user=[word for word in text.split() if not word.startswith(\"@\")]\n",
    "    text = ' '.join(no_user)\n",
    "    stpword = stopwords.words('english')\n",
    "    no_punctuation = [char for char in text if char not in string.punctuation]\n",
    "    no_punctuation = ''.join(no_punctuation)\n",
    "    return ' '.join([word for word in no_punctuation.split() if word.lower() not in stpword])"
   ]
  },
  {
   "cell_type": "code",
   "execution_count": 310,
   "id": "67dda4de",
   "metadata": {},
   "outputs": [
    {
     "data": {
      "text/html": [
       "<div>\n",
       "<style scoped>\n",
       "    .dataframe tbody tr th:only-of-type {\n",
       "        vertical-align: middle;\n",
       "    }\n",
       "\n",
       "    .dataframe tbody tr th {\n",
       "        vertical-align: top;\n",
       "    }\n",
       "\n",
       "    .dataframe thead th {\n",
       "        text-align: right;\n",
       "    }\n",
       "</style>\n",
       "<table border=\"1\" class=\"dataframe\">\n",
       "  <thead>\n",
       "    <tr style=\"text-align: right;\">\n",
       "      <th></th>\n",
       "      <th>sentiment</th>\n",
       "      <th>id</th>\n",
       "      <th>date</th>\n",
       "      <th>flag</th>\n",
       "      <th>user</th>\n",
       "      <th>text</th>\n",
       "    </tr>\n",
       "  </thead>\n",
       "  <tbody>\n",
       "    <tr>\n",
       "      <th>186271</th>\n",
       "      <td>0</td>\n",
       "      <td>1968263800</td>\n",
       "      <td>Fri May 29 21:05:10 PDT 2009</td>\n",
       "      <td>NO_QUERY</td>\n",
       "      <td>Meli_mel_mel</td>\n",
       "      <td>Whoa, my nails are so long! I dont bite them a...</td>\n",
       "    </tr>\n",
       "    <tr>\n",
       "      <th>83269</th>\n",
       "      <td>0</td>\n",
       "      <td>1753299494</td>\n",
       "      <td>Sun May 10 00:58:59 PDT 2009</td>\n",
       "      <td>NO_QUERY</td>\n",
       "      <td>callmefrenchie</td>\n",
       "      <td>Ahh! My eye hurts   I think I have a pretty ba...</td>\n",
       "    </tr>\n",
       "    <tr>\n",
       "      <th>1312443</th>\n",
       "      <td>4</td>\n",
       "      <td>2013655880</td>\n",
       "      <td>Tue Jun 02 23:13:23 PDT 2009</td>\n",
       "      <td>NO_QUERY</td>\n",
       "      <td>MsCoLo</td>\n",
       "      <td>@stephjonesmusic Either way if water is involv...</td>\n",
       "    </tr>\n",
       "    <tr>\n",
       "      <th>761006</th>\n",
       "      <td>0</td>\n",
       "      <td>2297038139</td>\n",
       "      <td>Tue Jun 23 09:57:02 PDT 2009</td>\n",
       "      <td>NO_QUERY</td>\n",
       "      <td>neekbreek</td>\n",
       "      <td>@toastcommunism i think that's for the store t...</td>\n",
       "    </tr>\n",
       "    <tr>\n",
       "      <th>1337030</th>\n",
       "      <td>4</td>\n",
       "      <td>2017463276</td>\n",
       "      <td>Wed Jun 03 08:25:56 PDT 2009</td>\n",
       "      <td>NO_QUERY</td>\n",
       "      <td>Malteboy777</td>\n",
       "      <td>@AFineFrenzy - You know?  I'm soo jalous that ...</td>\n",
       "    </tr>\n",
       "    <tr>\n",
       "      <th>...</th>\n",
       "      <td>...</td>\n",
       "      <td>...</td>\n",
       "      <td>...</td>\n",
       "      <td>...</td>\n",
       "      <td>...</td>\n",
       "      <td>...</td>\n",
       "    </tr>\n",
       "    <tr>\n",
       "      <th>377911</th>\n",
       "      <td>0</td>\n",
       "      <td>2051989712</td>\n",
       "      <td>Fri Jun 05 23:20:29 PDT 2009</td>\n",
       "      <td>NO_QUERY</td>\n",
       "      <td>juumoraes</td>\n",
       "      <td>http://twitpic.com/6q8jl - me and danny</td>\n",
       "    </tr>\n",
       "    <tr>\n",
       "      <th>420430</th>\n",
       "      <td>0</td>\n",
       "      <td>2062207930</td>\n",
       "      <td>Sat Jun 06 22:36:18 PDT 2009</td>\n",
       "      <td>NO_QUERY</td>\n",
       "      <td>ohfuckmylife</td>\n",
       "      <td>OH: fml  @brittdainard knows what i;m doing ev...</td>\n",
       "    </tr>\n",
       "    <tr>\n",
       "      <th>58719</th>\n",
       "      <td>0</td>\n",
       "      <td>1685964748</td>\n",
       "      <td>Sun May 03 03:01:28 PDT 2009</td>\n",
       "      <td>NO_QUERY</td>\n",
       "      <td>witch_fairy</td>\n",
       "      <td>I'm so bored.  My life is getting busy now... ...</td>\n",
       "    </tr>\n",
       "    <tr>\n",
       "      <th>1314658</th>\n",
       "      <td>4</td>\n",
       "      <td>2013933168</td>\n",
       "      <td>Tue Jun 02 23:59:22 PDT 2009</td>\n",
       "      <td>NO_QUERY</td>\n",
       "      <td>mytryheart</td>\n",
       "      <td>lol... there's a blackout here! i'm in a middl...</td>\n",
       "    </tr>\n",
       "    <tr>\n",
       "      <th>1135812</th>\n",
       "      <td>4</td>\n",
       "      <td>1976520180</td>\n",
       "      <td>Sat May 30 18:20:41 PDT 2009</td>\n",
       "      <td>NO_QUERY</td>\n",
       "      <td>The_Purple</td>\n",
       "      <td>wow @TheNana24 is cookin on this SAT nite....</td>\n",
       "    </tr>\n",
       "  </tbody>\n",
       "</table>\n",
       "<p>30000 rows × 6 columns</p>\n",
       "</div>"
      ],
      "text/plain": [
       "         sentiment          id                          date      flag  \\\n",
       "186271           0  1968263800  Fri May 29 21:05:10 PDT 2009  NO_QUERY   \n",
       "83269            0  1753299494  Sun May 10 00:58:59 PDT 2009  NO_QUERY   \n",
       "1312443          4  2013655880  Tue Jun 02 23:13:23 PDT 2009  NO_QUERY   \n",
       "761006           0  2297038139  Tue Jun 23 09:57:02 PDT 2009  NO_QUERY   \n",
       "1337030          4  2017463276  Wed Jun 03 08:25:56 PDT 2009  NO_QUERY   \n",
       "...            ...         ...                           ...       ...   \n",
       "377911           0  2051989712  Fri Jun 05 23:20:29 PDT 2009  NO_QUERY   \n",
       "420430           0  2062207930  Sat Jun 06 22:36:18 PDT 2009  NO_QUERY   \n",
       "58719            0  1685964748  Sun May 03 03:01:28 PDT 2009  NO_QUERY   \n",
       "1314658          4  2013933168  Tue Jun 02 23:59:22 PDT 2009  NO_QUERY   \n",
       "1135812          4  1976520180  Sat May 30 18:20:41 PDT 2009  NO_QUERY   \n",
       "\n",
       "                   user                                               text  \n",
       "186271     Meli_mel_mel  Whoa, my nails are so long! I dont bite them a...  \n",
       "83269    callmefrenchie  Ahh! My eye hurts   I think I have a pretty ba...  \n",
       "1312443          MsCoLo  @stephjonesmusic Either way if water is involv...  \n",
       "761006        neekbreek  @toastcommunism i think that's for the store t...  \n",
       "1337030     Malteboy777  @AFineFrenzy - You know?  I'm soo jalous that ...  \n",
       "...                 ...                                                ...  \n",
       "377911        juumoraes           http://twitpic.com/6q8jl - me and danny   \n",
       "420430     ohfuckmylife  OH: fml  @brittdainard knows what i;m doing ev...  \n",
       "58719       witch_fairy  I'm so bored.  My life is getting busy now... ...  \n",
       "1314658      mytryheart  lol... there's a blackout here! i'm in a middl...  \n",
       "1135812      The_Purple     wow @TheNana24 is cookin on this SAT nite....   \n",
       "\n",
       "[30000 rows x 6 columns]"
      ]
     },
     "execution_count": 310,
     "metadata": {},
     "output_type": "execute_result"
    }
   ],
   "source": [
    "tweets_train_df=tweets_train_df.sample(n = 30000)\n",
    "tweets_train_df"
   ]
  },
  {
   "cell_type": "code",
   "execution_count": 311,
   "id": "d0ab359c",
   "metadata": {},
   "outputs": [
    {
     "data": {
      "text/html": [
       "<div>\n",
       "<style scoped>\n",
       "    .dataframe tbody tr th:only-of-type {\n",
       "        vertical-align: middle;\n",
       "    }\n",
       "\n",
       "    .dataframe tbody tr th {\n",
       "        vertical-align: top;\n",
       "    }\n",
       "\n",
       "    .dataframe thead th {\n",
       "        text-align: right;\n",
       "    }\n",
       "</style>\n",
       "<table border=\"1\" class=\"dataframe\">\n",
       "  <thead>\n",
       "    <tr style=\"text-align: right;\">\n",
       "      <th></th>\n",
       "      <th>sentiment</th>\n",
       "      <th>id</th>\n",
       "      <th>date</th>\n",
       "      <th>flag</th>\n",
       "      <th>user</th>\n",
       "      <th>text</th>\n",
       "      <th>processed_text</th>\n",
       "    </tr>\n",
       "  </thead>\n",
       "  <tbody>\n",
       "    <tr>\n",
       "      <th>186271</th>\n",
       "      <td>0</td>\n",
       "      <td>1968263800</td>\n",
       "      <td>Fri May 29 21:05:10 PDT 2009</td>\n",
       "      <td>NO_QUERY</td>\n",
       "      <td>Meli_mel_mel</td>\n",
       "      <td>Whoa, my nails are so long! I dont bite them a...</td>\n",
       "      <td>Whoa nails long dont bite anymore keep breaking</td>\n",
       "    </tr>\n",
       "    <tr>\n",
       "      <th>83269</th>\n",
       "      <td>0</td>\n",
       "      <td>1753299494</td>\n",
       "      <td>Sun May 10 00:58:59 PDT 2009</td>\n",
       "      <td>NO_QUERY</td>\n",
       "      <td>callmefrenchie</td>\n",
       "      <td>Ahh! My eye hurts   I think I have a pretty ba...</td>\n",
       "      <td>Ahh eye hurts think pretty bad stye</td>\n",
       "    </tr>\n",
       "    <tr>\n",
       "      <th>1312443</th>\n",
       "      <td>4</td>\n",
       "      <td>2013655880</td>\n",
       "      <td>Tue Jun 02 23:13:23 PDT 2009</td>\n",
       "      <td>NO_QUERY</td>\n",
       "      <td>MsCoLo</td>\n",
       "      <td>@stephjonesmusic Either way if water is involv...</td>\n",
       "      <td>Either way water involved results would nasty</td>\n",
       "    </tr>\n",
       "    <tr>\n",
       "      <th>761006</th>\n",
       "      <td>0</td>\n",
       "      <td>2297038139</td>\n",
       "      <td>Tue Jun 23 09:57:02 PDT 2009</td>\n",
       "      <td>NO_QUERY</td>\n",
       "      <td>neekbreek</td>\n",
       "      <td>@toastcommunism i think that's for the store t...</td>\n",
       "      <td>think thats store thats anaheim though LETS GO...</td>\n",
       "    </tr>\n",
       "    <tr>\n",
       "      <th>1337030</th>\n",
       "      <td>4</td>\n",
       "      <td>2017463276</td>\n",
       "      <td>Wed Jun 03 08:25:56 PDT 2009</td>\n",
       "      <td>NO_QUERY</td>\n",
       "      <td>Malteboy777</td>\n",
       "      <td>@AFineFrenzy - You know?  I'm soo jalous that ...</td>\n",
       "      <td>know Im soo jalous guitar center near awesome ...</td>\n",
       "    </tr>\n",
       "  </tbody>\n",
       "</table>\n",
       "</div>"
      ],
      "text/plain": [
       "         sentiment          id                          date      flag  \\\n",
       "186271           0  1968263800  Fri May 29 21:05:10 PDT 2009  NO_QUERY   \n",
       "83269            0  1753299494  Sun May 10 00:58:59 PDT 2009  NO_QUERY   \n",
       "1312443          4  2013655880  Tue Jun 02 23:13:23 PDT 2009  NO_QUERY   \n",
       "761006           0  2297038139  Tue Jun 23 09:57:02 PDT 2009  NO_QUERY   \n",
       "1337030          4  2017463276  Wed Jun 03 08:25:56 PDT 2009  NO_QUERY   \n",
       "\n",
       "                   user                                               text  \\\n",
       "186271     Meli_mel_mel  Whoa, my nails are so long! I dont bite them a...   \n",
       "83269    callmefrenchie  Ahh! My eye hurts   I think I have a pretty ba...   \n",
       "1312443          MsCoLo  @stephjonesmusic Either way if water is involv...   \n",
       "761006        neekbreek  @toastcommunism i think that's for the store t...   \n",
       "1337030     Malteboy777  @AFineFrenzy - You know?  I'm soo jalous that ...   \n",
       "\n",
       "                                            processed_text  \n",
       "186271     Whoa nails long dont bite anymore keep breaking  \n",
       "83269                  Ahh eye hurts think pretty bad stye  \n",
       "1312443      Either way water involved results would nasty  \n",
       "761006   think thats store thats anaheim though LETS GO...  \n",
       "1337030  know Im soo jalous guitar center near awesome ...  "
      ]
     },
     "execution_count": 311,
     "metadata": {},
     "output_type": "execute_result"
    }
   ],
   "source": [
    "tweets_train_df['processed_text'] = tweets_train_df['text'].apply(get_text_processing)\n",
    "tweets_train_df.head()"
   ]
  },
  {
   "cell_type": "code",
   "execution_count": 312,
   "id": "11dc9bef",
   "metadata": {},
   "outputs": [
    {
     "data": {
      "text/html": [
       "<div>\n",
       "<style scoped>\n",
       "    .dataframe tbody tr th:only-of-type {\n",
       "        vertical-align: middle;\n",
       "    }\n",
       "\n",
       "    .dataframe tbody tr th {\n",
       "        vertical-align: top;\n",
       "    }\n",
       "\n",
       "    .dataframe thead th {\n",
       "        text-align: right;\n",
       "    }\n",
       "</style>\n",
       "<table border=\"1\" class=\"dataframe\">\n",
       "  <thead>\n",
       "    <tr style=\"text-align: right;\">\n",
       "      <th></th>\n",
       "      <th>processed_text</th>\n",
       "      <th>sentiment</th>\n",
       "    </tr>\n",
       "  </thead>\n",
       "  <tbody>\n",
       "    <tr>\n",
       "      <th>186271</th>\n",
       "      <td>Whoa nails long dont bite anymore keep breaking</td>\n",
       "      <td>0</td>\n",
       "    </tr>\n",
       "    <tr>\n",
       "      <th>83269</th>\n",
       "      <td>Ahh eye hurts think pretty bad stye</td>\n",
       "      <td>0</td>\n",
       "    </tr>\n",
       "    <tr>\n",
       "      <th>1312443</th>\n",
       "      <td>Either way water involved results would nasty</td>\n",
       "      <td>4</td>\n",
       "    </tr>\n",
       "    <tr>\n",
       "      <th>761006</th>\n",
       "      <td>think thats store thats anaheim though LETS GO...</td>\n",
       "      <td>0</td>\n",
       "    </tr>\n",
       "    <tr>\n",
       "      <th>1337030</th>\n",
       "      <td>know Im soo jalous guitar center near awesome ...</td>\n",
       "      <td>4</td>\n",
       "    </tr>\n",
       "  </tbody>\n",
       "</table>\n",
       "</div>"
      ],
      "text/plain": [
       "                                            processed_text  sentiment\n",
       "186271     Whoa nails long dont bite anymore keep breaking          0\n",
       "83269                  Ahh eye hurts think pretty bad stye          0\n",
       "1312443      Either way water involved results would nasty          4\n",
       "761006   think thats store thats anaheim though LETS GO...          0\n",
       "1337030  know Im soo jalous guitar center near awesome ...          4"
      ]
     },
     "execution_count": 312,
     "metadata": {},
     "output_type": "execute_result"
    }
   ],
   "source": [
    "tweets_train_df = tweets_train_df[['processed_text', 'sentiment']]\n",
    "tweets_train_df.head()"
   ]
  },
  {
   "cell_type": "code",
   "execution_count": 313,
   "id": "28c11f7d",
   "metadata": {},
   "outputs": [
    {
     "name": "stderr",
     "output_type": "stream",
     "text": [
      "C:\\Users\\blancc2\\AppData\\Local\\Temp\\ipykernel_27240\\3634691763.py:1: SettingWithCopyWarning: \n",
      "A value is trying to be set on a copy of a slice from a DataFrame\n",
      "\n",
      "See the caveats in the documentation: https://pandas.pydata.org/pandas-docs/stable/user_guide/indexing.html#returning-a-view-versus-a-copy\n",
      "  tweets_train_df['sentiment'].replace([0, 4],['negative', 'positive'],inplace=True)\n"
     ]
    }
   ],
   "source": [
    "tweets_train_df['sentiment'].replace([0, 4],['negative', 'positive'],inplace=True)"
   ]
  },
  {
   "cell_type": "code",
   "execution_count": 314,
   "id": "3c3d7c76",
   "metadata": {},
   "outputs": [
    {
     "name": "stderr",
     "output_type": "stream",
     "text": [
      "C:\\Users\\blancc2\\AppData\\Local\\Temp\\ipykernel_27240\\3756881652.py:2: SettingWithCopyWarning: \n",
      "A value is trying to be set on a copy of a slice from a DataFrame\n",
      "\n",
      "See the caveats in the documentation: https://pandas.pydata.org/pandas-docs/stable/user_guide/indexing.html#returning-a-view-versus-a-copy\n",
      "  tweets_train_df.drop(['sentiment'],axis=1,inplace=True)\n"
     ]
    },
    {
     "data": {
      "text/html": [
       "<div>\n",
       "<style scoped>\n",
       "    .dataframe tbody tr th:only-of-type {\n",
       "        vertical-align: middle;\n",
       "    }\n",
       "\n",
       "    .dataframe tbody tr th {\n",
       "        vertical-align: top;\n",
       "    }\n",
       "\n",
       "    .dataframe thead th {\n",
       "        text-align: right;\n",
       "    }\n",
       "</style>\n",
       "<table border=\"1\" class=\"dataframe\">\n",
       "  <thead>\n",
       "    <tr style=\"text-align: right;\">\n",
       "      <th></th>\n",
       "      <th>processed_text</th>\n",
       "      <th>negative</th>\n",
       "      <th>positive</th>\n",
       "    </tr>\n",
       "  </thead>\n",
       "  <tbody>\n",
       "    <tr>\n",
       "      <th>186271</th>\n",
       "      <td>Whoa nails long dont bite anymore keep breaking</td>\n",
       "      <td>1</td>\n",
       "      <td>0</td>\n",
       "    </tr>\n",
       "    <tr>\n",
       "      <th>83269</th>\n",
       "      <td>Ahh eye hurts think pretty bad stye</td>\n",
       "      <td>1</td>\n",
       "      <td>0</td>\n",
       "    </tr>\n",
       "    <tr>\n",
       "      <th>1312443</th>\n",
       "      <td>Either way water involved results would nasty</td>\n",
       "      <td>0</td>\n",
       "      <td>1</td>\n",
       "    </tr>\n",
       "    <tr>\n",
       "      <th>761006</th>\n",
       "      <td>think thats store thats anaheim though LETS GO...</td>\n",
       "      <td>1</td>\n",
       "      <td>0</td>\n",
       "    </tr>\n",
       "    <tr>\n",
       "      <th>1337030</th>\n",
       "      <td>know Im soo jalous guitar center near awesome ...</td>\n",
       "      <td>0</td>\n",
       "      <td>1</td>\n",
       "    </tr>\n",
       "  </tbody>\n",
       "</table>\n",
       "</div>"
      ],
      "text/plain": [
       "                                            processed_text  negative  positive\n",
       "186271     Whoa nails long dont bite anymore keep breaking         1         0\n",
       "83269                  Ahh eye hurts think pretty bad stye         1         0\n",
       "1312443      Either way water involved results would nasty         0         1\n",
       "761006   think thats store thats anaheim though LETS GO...         1         0\n",
       "1337030  know Im soo jalous guitar center near awesome ...         0         1"
      ]
     },
     "execution_count": 314,
     "metadata": {},
     "output_type": "execute_result"
    }
   ],
   "source": [
    "one_hot = pd.get_dummies(tweets_train_df[\"sentiment\"])\n",
    "tweets_train_df.drop(['sentiment'],axis=1,inplace=True)\n",
    "tweets_train_df = pd.concat([tweets_train_df,one_hot],axis=1)\n",
    "tweets_train_df.head()"
   ]
  },
  {
   "cell_type": "code",
   "execution_count": 315,
   "id": "bae5c5df",
   "metadata": {},
   "outputs": [],
   "source": [
    "X = tweets_train_df['processed_text'].values\n",
    "y = tweets_train_df.drop('processed_text', axis=1).values\n",
    "X_train, X_test, y_train, y_test = train_test_split(X, y, test_size=0.30, random_state=42)"
   ]
  },
  {
   "cell_type": "code",
   "execution_count": 316,
   "id": "2bccde96",
   "metadata": {},
   "outputs": [],
   "source": [
    "vect = CountVectorizer()\n",
    "X_train = vect.fit_transform(X_train)\n",
    "X_test = vect.transform(X_test)"
   ]
  },
  {
   "cell_type": "code",
   "execution_count": 317,
   "id": "0ee2da13",
   "metadata": {},
   "outputs": [],
   "source": [
    "tfidf = TfidfTransformer()\n",
    "X_train = tfidf.fit_transform(X_train)\n",
    "X_test = tfidf.transform(X_test)\n",
    "X_train = X_train.toarray()\n",
    "X_test = X_test.toarray()"
   ]
  },
  {
   "cell_type": "code",
   "execution_count": 318,
   "id": "e7759828",
   "metadata": {},
   "outputs": [],
   "source": [
    "#y_train = tensorflow.keras.utils.to_categorical(y_train, 3)\n",
    "#y_test = tensorflow.keras.utils.to_categorical(y_test, 3)"
   ]
  },
  {
   "cell_type": "code",
   "execution_count": 319,
   "id": "8ed7efe3",
   "metadata": {},
   "outputs": [],
   "source": [
    "model = Sequential()\n",
    "\n",
    "model.add(Dense(units=12673,activation='relu'))\n",
    "model.add(Dropout(0.5))\n",
    "\n",
    "model.add(Dense(units=4000,activation='relu'))\n",
    "model.add(Dropout(0.5))\n",
    "\n",
    "model.add(Dense(units=500,activation='relu'))\n",
    "model.add(Dropout(0.5))\n",
    "\n",
    "#units=2 as there are 2 categorical values as target\n",
    "model.add(Dense(units=2, activation='softmax'))\n",
    "\n",
    "opt=tf.keras.optimizers.Adam(learning_rate=0.001)\n",
    "model.compile(loss='categorical_crossentropy', optimizer=opt, metrics=['accuracy'])\n",
    "\n",
    "early_stop = EarlyStopping(monitor='val_loss', mode='min', verbose=1, patience=2)"
   ]
  },
  {
   "cell_type": "code",
   "execution_count": 320,
   "id": "332ef605",
   "metadata": {},
   "outputs": [
    {
     "name": "stdout",
     "output_type": "stream",
     "text": [
      "Epoch 1/100\n",
      "83/83 [==============================] - 257s 3s/step - loss: 0.5598 - accuracy: 0.6999 - val_loss: 0.5276 - val_accuracy: 0.7352\n",
      "Epoch 2/100\n",
      "83/83 [==============================] - 236s 3s/step - loss: 0.2641 - accuracy: 0.8980 - val_loss: 0.6443 - val_accuracy: 0.7270\n",
      "Epoch 3/100\n",
      "83/83 [==============================] - 235s 3s/step - loss: 0.0887 - accuracy: 0.9689 - val_loss: 0.9666 - val_accuracy: 0.7233\n",
      "Epoch 3: early stopping\n"
     ]
    },
    {
     "data": {
      "text/plain": [
       "<keras.callbacks.History at 0x16cde8d0520>"
      ]
     },
     "execution_count": 320,
     "metadata": {},
     "output_type": "execute_result"
    }
   ],
   "source": [
    "model.fit(x=X_train, y=y_train, batch_size=256, epochs=100, validation_data=(X_test, y_test), verbose=1, callbacks=early_stop)"
   ]
  },
  {
   "cell_type": "code",
   "execution_count": 321,
   "id": "7dca28b5",
   "metadata": {},
   "outputs": [
    {
     "name": "stdout",
     "output_type": "stream",
     "text": [
      "141/141 [==============================] - 22s 153ms/step - loss: 0.9666 - accuracy: 0.7233\n",
      "Test accuracy: 0.7233333587646484\n"
     ]
    }
   ],
   "source": [
    "model_score = model.evaluate(X_test, y_test, batch_size=64, verbose=1)\n",
    "print('Test accuracy:', model_score[1])"
   ]
  },
  {
   "cell_type": "code",
   "execution_count": 322,
   "id": "a085ec1c",
   "metadata": {},
   "outputs": [
    {
     "data": {
      "text/plain": [
       "(9000, 25327)"
      ]
     },
     "execution_count": 322,
     "metadata": {},
     "output_type": "execute_result"
    }
   ],
   "source": [
    "X_test.shape"
   ]
  },
  {
   "cell_type": "code",
   "execution_count": 323,
   "id": "a7cb0522",
   "metadata": {},
   "outputs": [
    {
     "data": {
      "text/html": [
       "<div>\n",
       "<style scoped>\n",
       "    .dataframe tbody tr th:only-of-type {\n",
       "        vertical-align: middle;\n",
       "    }\n",
       "\n",
       "    .dataframe tbody tr th {\n",
       "        vertical-align: top;\n",
       "    }\n",
       "\n",
       "    .dataframe thead th {\n",
       "        text-align: right;\n",
       "    }\n",
       "</style>\n",
       "<table border=\"1\" class=\"dataframe\">\n",
       "  <thead>\n",
       "    <tr style=\"text-align: right;\">\n",
       "      <th></th>\n",
       "      <th>id</th>\n",
       "      <th>created_at</th>\n",
       "      <th>text</th>\n",
       "      <th>edit_history_tweet_ids</th>\n",
       "      <th>author_id</th>\n",
       "      <th>processed_text</th>\n",
       "      <th>neg_score</th>\n",
       "      <th>pos_score</th>\n",
       "      <th>sentiment</th>\n",
       "    </tr>\n",
       "  </thead>\n",
       "  <tbody>\n",
       "    <tr>\n",
       "      <th>0</th>\n",
       "      <td>1612202526450884608</td>\n",
       "      <td>2023-01-08T21:40:10.000Z</td>\n",
       "      <td>The Roman Empire invaded Ireland and took Iris...</td>\n",
       "      <td>[1612202526450884608]</td>\n",
       "      <td>2407544636</td>\n",
       "      <td>Roman Empire invaded Ireland took Irish slaves...</td>\n",
       "      <td>0.809869</td>\n",
       "      <td>0.190131</td>\n",
       "      <td>negative</td>\n",
       "    </tr>\n",
       "    <tr>\n",
       "      <th>1</th>\n",
       "      <td>1612161739633856515</td>\n",
       "      <td>2023-01-08T18:58:05.000Z</td>\n",
       "      <td>@BTriagain Indeed...the fungus affected the po...</td>\n",
       "      <td>[1612161739633856515]</td>\n",
       "      <td>1317180014467624960</td>\n",
       "      <td>Indeedthe fungus affected potato tragicallythe...</td>\n",
       "      <td>0.755669</td>\n",
       "      <td>0.244331</td>\n",
       "      <td>negative</td>\n",
       "    </tr>\n",
       "    <tr>\n",
       "      <th>2</th>\n",
       "      <td>1612080761829527553</td>\n",
       "      <td>2023-01-08T13:36:19.000Z</td>\n",
       "      <td>@garrettdonnelly @confidencenac @joeinlondonto...</td>\n",
       "      <td>[1612080761829527553]</td>\n",
       "      <td>27733419</td>\n",
       "      <td>longer matters much Ireland say since Ireland ...</td>\n",
       "      <td>0.834757</td>\n",
       "      <td>0.165243</td>\n",
       "      <td>negative</td>\n",
       "    </tr>\n",
       "    <tr>\n",
       "      <th>3</th>\n",
       "      <td>1612077072075063297</td>\n",
       "      <td>2023-01-08T13:21:39.000Z</td>\n",
       "      <td>Never understood why we don’t have these in Ir...</td>\n",
       "      <td>[1612077072075063297]</td>\n",
       "      <td>1592313441175408640</td>\n",
       "      <td>Never understood don’t Ireland protectwildlife...</td>\n",
       "      <td>0.742730</td>\n",
       "      <td>0.257270</td>\n",
       "      <td>negative</td>\n",
       "    </tr>\n",
       "    <tr>\n",
       "      <th>4</th>\n",
       "      <td>1612068231245697025</td>\n",
       "      <td>2023-01-08T12:46:31.000Z</td>\n",
       "      <td>@GerryGribben Yes, Ireland ‘improved’ after th...</td>\n",
       "      <td>[1612068231245697025]</td>\n",
       "      <td>212985751</td>\n",
       "      <td>Yes Ireland ‘improved’ Famine extent fewer peo...</td>\n",
       "      <td>0.864623</td>\n",
       "      <td>0.135377</td>\n",
       "      <td>negative</td>\n",
       "    </tr>\n",
       "  </tbody>\n",
       "</table>\n",
       "</div>"
      ],
      "text/plain": [
       "                    id                created_at  \\\n",
       "0  1612202526450884608  2023-01-08T21:40:10.000Z   \n",
       "1  1612161739633856515  2023-01-08T18:58:05.000Z   \n",
       "2  1612080761829527553  2023-01-08T13:36:19.000Z   \n",
       "3  1612077072075063297  2023-01-08T13:21:39.000Z   \n",
       "4  1612068231245697025  2023-01-08T12:46:31.000Z   \n",
       "\n",
       "                                                text edit_history_tweet_ids  \\\n",
       "0  The Roman Empire invaded Ireland and took Iris...  [1612202526450884608]   \n",
       "1  @BTriagain Indeed...the fungus affected the po...  [1612161739633856515]   \n",
       "2  @garrettdonnelly @confidencenac @joeinlondonto...  [1612080761829527553]   \n",
       "3  Never understood why we don’t have these in Ir...  [1612077072075063297]   \n",
       "4  @GerryGribben Yes, Ireland ‘improved’ after th...  [1612068231245697025]   \n",
       "\n",
       "             author_id                                     processed_text  \\\n",
       "0           2407544636  Roman Empire invaded Ireland took Irish slaves...   \n",
       "1  1317180014467624960  Indeedthe fungus affected potato tragicallythe...   \n",
       "2             27733419  longer matters much Ireland say since Ireland ...   \n",
       "3  1592313441175408640  Never understood don’t Ireland protectwildlife...   \n",
       "4            212985751  Yes Ireland ‘improved’ Famine extent fewer peo...   \n",
       "\n",
       "   neg_score  pos_score sentiment  \n",
       "0   0.809869   0.190131  negative  \n",
       "1   0.755669   0.244331  negative  \n",
       "2   0.834757   0.165243  negative  \n",
       "3   0.742730   0.257270  negative  \n",
       "4   0.864623   0.135377  negative  "
      ]
     },
     "execution_count": 323,
     "metadata": {},
     "output_type": "execute_result"
    }
   ],
   "source": [
    "tweets_c1_df.head()"
   ]
  },
  {
   "cell_type": "code",
   "execution_count": 324,
   "id": "e19972d3",
   "metadata": {},
   "outputs": [
    {
     "name": "stdout",
     "output_type": "stream",
     "text": [
      "4/4 [==============================] - 1s 106ms/step\n"
     ]
    }
   ],
   "source": [
    "tweets_pred = tweets_c1_df\n",
    "\n",
    "tweets_pred['processed_text'] = tweets_pred['text'].apply(get_text_processing)\n",
    "X_tweets=tweets_pred['processed_text']\n",
    "X_tweets = vect.transform(X_tweets)\n",
    "\n",
    "X_tweets = tfidf.transform(X_tweets)\n",
    "X_tweets = X_tweets.toarray()\n",
    "\n",
    "tweets_predicted = model.predict(X_tweets)\n",
    "\n",
    "test_country=tweets_c1_df\n",
    "\n",
    "\n",
    "test_country[[\"neg_score\", \"pos_score\"]] = tweets_predicted\n",
    "test_country[\"sentiment\"] = np.where(test_country[\"neg_score\"] > 0.5, 'negative', 'positive')"
   ]
  },
  {
   "cell_type": "code",
   "execution_count": 332,
   "id": "75aa9889",
   "metadata": {},
   "outputs": [],
   "source": [
    "def predict_sentiment(df, vect, tfidf, model):\n",
    "    df['processed_text'] = df['text'].apply(get_text_processing)\n",
    "    X_tweets=df['processed_text']\n",
    "    X_tweets = vect.transform(X_tweets)\n",
    "\n",
    "    X_tweets = tfidf.transform(X_tweets)\n",
    "    X_tweets = X_tweets.toarray()\n",
    "\n",
    "    tweets_predicted = model.predict(X_tweets)\n",
    "\n",
    "    df[[\"neg_score\", \"pos_score\"]] = tweets_predicted\n",
    "    df[\"sentiment\"] = np.where(df[\"neg_score\"] > 0.5, 'negative', 'positive')\n",
    "    return df"
   ]
  },
  {
   "cell_type": "code",
   "execution_count": 334,
   "id": "4d6cb873",
   "metadata": {},
   "outputs": [
    {
     "name": "stdout",
     "output_type": "stream",
     "text": [
      "4/4 [==============================] - 0s 101ms/step\n",
      "4/4 [==============================] - 0s 102ms/step\n"
     ]
    }
   ],
   "source": [
    "tweets_c1=predict_sentiment(tweets_c1_df,vect, tfidf, model)\n",
    "tweets_c1[\"Area\"]=country1\n",
    "tweets_c2=predict_sentiment(tweets_c2_df,vect, tfidf, model)\n",
    "tweets_c2[\"Area\"]='Worldwide'\n",
    "\n"
   ]
  },
  {
   "cell_type": "code",
   "execution_count": 338,
   "id": "490bc601",
   "metadata": {},
   "outputs": [],
   "source": [
    "total_tweets=pd.concat([tweets_c1, tweets_c2])"
   ]
  },
  {
   "cell_type": "code",
   "execution_count": 341,
   "id": "b46e5d99",
   "metadata": {},
   "outputs": [
    {
     "data": {
      "image/png": "[encoded data removed]",
      "text/plain": [
       "<Figure size 1000x500 with 1 Axes>"
      ]
     },
     "metadata": {},
     "output_type": "display_data"
    }
   ],
   "source": [
    "plt.figure(figsize=(10,5))\n",
    "g = sns.countplot(data=total_tweets, x=\"sentiment\", hue=\"Area\", palette=\"Blues\");\n",
    "g.set_title('Sentiment Analysis on Tweets related to Agriculture')\n",
    "\n",
    "plt.show();"
   ]
  },
  {
   "cell_type": "code",
   "execution_count": null,
   "id": "649e9069",
   "metadata": {},
   "outputs": [],
   "source": []
  },
  {
   "cell_type": "code",
   "execution_count": null,
   "id": "d49d2728",
   "metadata": {},
   "outputs": [],
   "source": []
  },
  {
   "cell_type": "code",
   "execution_count": null,
   "id": "69c886b1",
   "metadata": {},
   "outputs": [],
   "source": []
  }
 ],
 "metadata": {
  "kernelspec": {
   "display_name": "Python 3 (ipykernel)",
   "language": "python",
   "name": "python3"
  },
  "language_info": {
   "codemirror_mode": {
    "name": "ipython",
    "version": 3
   },
   "file_extension": ".py",
   "mimetype": "text/x-python",
   "name": "python",
   "nbconvert_exporter": "python",
   "pygments_lexer": "ipython3",
   "version": "3.9.13"
  }
 },
 "nbformat": 4,
 "nbformat_minor": 5
}
