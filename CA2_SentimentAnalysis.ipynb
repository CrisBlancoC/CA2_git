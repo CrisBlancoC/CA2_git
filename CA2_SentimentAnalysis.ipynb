{
 "cells": [
  {
   "cell_type": "markdown",
   "id": "569156b0",
   "metadata": {},
   "source": [
    "# Sentiment Analysis"
   ]
  },
  {
   "cell_type": "code",
   "execution_count": 1,
   "id": "fa8dcdee",
   "metadata": {},
   "outputs": [
    {
     "name": "stderr",
     "output_type": "stream",
     "text": [
      "[nltk_data] Downloading package stopwords to\n",
      "[nltk_data]     C:\\Users\\blancc2\\AppData\\Roaming\\nltk_data...\n",
      "[nltk_data]   Package stopwords is already up-to-date!\n"
     ]
    }
   ],
   "source": [
    "from dotenv import dotenv_values\n",
    "import requests\n",
    "import json\n",
    "import tweepy\n",
    "\n",
    "import pandas as pd\n",
    "import numpy as np\n",
    "import seaborn as sns\n",
    "from pathlib import Path\n",
    "import re\n",
    "import string\n",
    "from string import punctuation\n",
    "import nltk\n",
    "from nltk.corpus import stopwords\n",
    "nltk.download('stopwords')\n",
    "\n",
    "\n",
    "import matplotlib.pyplot as plt\n",
    "from sklearn.model_selection import train_test_split\n",
    "from sklearn.feature_extraction.text import CountVectorizer\n",
    "from sklearn.feature_extraction.text import TfidfTransformer\n",
    "\n",
    "import tensorflow as tf\n",
    "from tensorflow.keras.models import Sequential\n",
    "from tensorflow.keras.layers import Dense, Activation, Dropout\n",
    "from tensorflow.keras.callbacks import EarlyStopping\n",
    "\n",
    "import warnings\n",
    "warnings.filterwarnings('ignore')"
   ]
  },
  {
   "cell_type": "code",
   "execution_count": 2,
   "id": "18f2c5fc",
   "metadata": {},
   "outputs": [],
   "source": [
    "config = dotenv_values(\".env\")\n",
    "\n",
    "bearer_token = config[\"BEARER_TOKEN\"]\n",
    "consumer_key = config[\"API_KEY\"]\n",
    "consumer_secret = config[\"API_KEY_SECRET\"]"
   ]
  },
  {
   "cell_type": "code",
   "execution_count": 3,
   "id": "a12d44ab",
   "metadata": {},
   "outputs": [],
   "source": [
    "tweets_folder = Path(\"data/Tweets_Data\")"
   ]
  },
  {
   "cell_type": "code",
   "execution_count": 4,
   "id": "f3400745",
   "metadata": {},
   "outputs": [],
   "source": [
    "#print(config[\"API_KEY\"])"
   ]
  },
  {
   "cell_type": "code",
   "execution_count": 5,
   "id": "bcc32fbb",
   "metadata": {},
   "outputs": [],
   "source": [
    "def search_agricultural_tweets(country_name, extra_term,max_results=100):\n",
    "    \n",
    "    #Create empty DataFrame with specific column names & types\n",
    "    tweets_data = pd.DataFrame({'ID': pd.Series(dtype='int'),\n",
    "                    'text': pd.Series(dtype='str')})\n",
    "    \n",
    "    \n",
    "    client = tweepy.Client( bearer_token=bearer_token, \n",
    "                        consumer_key=consumer_key, \n",
    "                        consumer_secret=consumer_secret,\n",
    "                        wait_on_rate_limit=True)\n",
    "\n",
    "\n",
    "    if country_name is None:\n",
    "        query=\"((agricultural) OR (agriculture)) -NBCHAIN lang:en -is:retweet\"\n",
    "    else:\n",
    "        query=\"((agricultural) OR (agriculture)) (\"+country_name +\" OR \" + extra_term +\") -NBCHAIN lang:en -is:retweet\"\n",
    "            \n",
    "    for tweet in tweepy.Paginator(client.search_recent_tweets, \n",
    "                                    query=query, \n",
    "                                    tweet_fields=['author_id', 'created_at'],\n",
    "                                     max_results=min(max_results,100)).flatten(limit=max_results):\n",
    "        tweets_data=pd.concat([tweets_data, pd.DataFrame.from_records([{'ID':tweet.id,\n",
    "                                'text':tweet.text}])])\n",
    "    return tweets_data"
   ]
  },
  {
   "cell_type": "code",
   "execution_count": 6,
   "id": "48f38497",
   "metadata": {},
   "outputs": [],
   "source": [
    "max_results=3000\n",
    "country1 = 'Ireland'\n",
    "extra_term = 'Irish'\n",
    "\n",
    "tweets_c1_df = search_agricultural_tweets(country1, extra_term, max_results)\n",
    "tweets_c2_df = search_agricultural_tweets(None, '', min(max_results, len(tweets_c1_df)))"
   ]
  },
  {
   "cell_type": "code",
   "execution_count": 7,
   "id": "78997103",
   "metadata": {},
   "outputs": [],
   "source": [
    "#Citation: Go, A., Bhayani, R. and Huang, L., 2009. Twitter sentiment classification using distant supervision. CS224N Project Report, Stanford, 1(2009), p.12."
   ]
  },
  {
   "cell_type": "code",
   "execution_count": 22,
   "id": "5a6bb1ac",
   "metadata": {},
   "outputs": [],
   "source": [
    "#target: the polarity of the tweet (0 = negative, 2 = neutral, 4 = positive)\n",
    "tweets_train_df = pd.read_csv(tweets_folder /\"tweets_sentiment.csv\", encoding='latin-1', names=[\"sentiment\", \"id\", \"date\", \"flag\", \"user\", \"text\"])"
   ]
  },
  {
   "cell_type": "code",
   "execution_count": 23,
   "id": "9aa746f6",
   "metadata": {},
   "outputs": [
    {
     "data": {
      "text/html": [
       "<div>\n",
       "<style scoped>\n",
       "    .dataframe tbody tr th:only-of-type {\n",
       "        vertical-align: middle;\n",
       "    }\n",
       "\n",
       "    .dataframe tbody tr th {\n",
       "        vertical-align: top;\n",
       "    }\n",
       "\n",
       "    .dataframe thead th {\n",
       "        text-align: right;\n",
       "    }\n",
       "</style>\n",
       "<table border=\"1\" class=\"dataframe\">\n",
       "  <thead>\n",
       "    <tr style=\"text-align: right;\">\n",
       "      <th></th>\n",
       "      <th>sentiment</th>\n",
       "      <th>id</th>\n",
       "      <th>date</th>\n",
       "      <th>flag</th>\n",
       "      <th>user</th>\n",
       "      <th>text</th>\n",
       "    </tr>\n",
       "  </thead>\n",
       "  <tbody>\n",
       "    <tr>\n",
       "      <th>0</th>\n",
       "      <td>0</td>\n",
       "      <td>1467810369</td>\n",
       "      <td>Mon Apr 06 22:19:45 PDT 2009</td>\n",
       "      <td>NO_QUERY</td>\n",
       "      <td>_TheSpecialOne_</td>\n",
       "      <td>@switchfoot http://twitpic.com/2y1zl - Awww, t...</td>\n",
       "    </tr>\n",
       "    <tr>\n",
       "      <th>1</th>\n",
       "      <td>0</td>\n",
       "      <td>1467810672</td>\n",
       "      <td>Mon Apr 06 22:19:49 PDT 2009</td>\n",
       "      <td>NO_QUERY</td>\n",
       "      <td>scotthamilton</td>\n",
       "      <td>is upset that he can't update his Facebook by ...</td>\n",
       "    </tr>\n",
       "    <tr>\n",
       "      <th>2</th>\n",
       "      <td>0</td>\n",
       "      <td>1467810917</td>\n",
       "      <td>Mon Apr 06 22:19:53 PDT 2009</td>\n",
       "      <td>NO_QUERY</td>\n",
       "      <td>mattycus</td>\n",
       "      <td>@Kenichan I dived many times for the ball. Man...</td>\n",
       "    </tr>\n",
       "    <tr>\n",
       "      <th>3</th>\n",
       "      <td>0</td>\n",
       "      <td>1467811184</td>\n",
       "      <td>Mon Apr 06 22:19:57 PDT 2009</td>\n",
       "      <td>NO_QUERY</td>\n",
       "      <td>ElleCTF</td>\n",
       "      <td>my whole body feels itchy and like its on fire</td>\n",
       "    </tr>\n",
       "    <tr>\n",
       "      <th>4</th>\n",
       "      <td>0</td>\n",
       "      <td>1467811193</td>\n",
       "      <td>Mon Apr 06 22:19:57 PDT 2009</td>\n",
       "      <td>NO_QUERY</td>\n",
       "      <td>Karoli</td>\n",
       "      <td>@nationwideclass no, it's not behaving at all....</td>\n",
       "    </tr>\n",
       "  </tbody>\n",
       "</table>\n",
       "</div>"
      ],
      "text/plain": [
       "   sentiment          id                          date      flag  \\\n",
       "0          0  1467810369  Mon Apr 06 22:19:45 PDT 2009  NO_QUERY   \n",
       "1          0  1467810672  Mon Apr 06 22:19:49 PDT 2009  NO_QUERY   \n",
       "2          0  1467810917  Mon Apr 06 22:19:53 PDT 2009  NO_QUERY   \n",
       "3          0  1467811184  Mon Apr 06 22:19:57 PDT 2009  NO_QUERY   \n",
       "4          0  1467811193  Mon Apr 06 22:19:57 PDT 2009  NO_QUERY   \n",
       "\n",
       "              user                                               text  \n",
       "0  _TheSpecialOne_  @switchfoot http://twitpic.com/2y1zl - Awww, t...  \n",
       "1    scotthamilton  is upset that he can't update his Facebook by ...  \n",
       "2         mattycus  @Kenichan I dived many times for the ball. Man...  \n",
       "3          ElleCTF    my whole body feels itchy and like its on fire   \n",
       "4           Karoli  @nationwideclass no, it's not behaving at all....  "
      ]
     },
     "execution_count": 23,
     "metadata": {},
     "output_type": "execute_result"
    }
   ],
   "source": [
    "tweets_train_df.head()"
   ]
  },
  {
   "cell_type": "code",
   "execution_count": 24,
   "id": "726e688f",
   "metadata": {},
   "outputs": [
    {
     "data": {
      "image/png": "[encoded data removed]",
      "text/plain": [
       "<Figure size 1000x500 with 1 Axes>"
      ]
     },
     "metadata": {},
     "output_type": "display_data"
    }
   ],
   "source": [
    "plt.figure(figsize=(10,5))\n",
    "g = sns.countplot(x='sentiment',data=tweets_train_df, palette='Blues');\n",
    "g.set_title('Sentiment Analysis on Training Dataset')\n",
    "\n",
    "plt.show();\n",
    "\n"
   ]
  },
  {
   "cell_type": "code",
   "execution_count": 25,
   "id": "fdea2efa",
   "metadata": {},
   "outputs": [],
   "source": [
    "#Data balanced.\n",
    "\n",
    "def get_text_processing(text):\n",
    "    #Remove any user mention (word starting by \"@\")\n",
    "    no_user=[word for word in text.split() if not word.startswith(\"@\")]\n",
    "    text = ' '.join(no_user)\n",
    "    stpword = stopwords.words('english')\n",
    "    no_punctuation = [char for char in text if char not in string.punctuation]\n",
    "    no_punctuation = ''.join(no_punctuation)\n",
    "    return ' '.join([word for word in no_punctuation.split() if word.lower() not in stpword])"
   ]
  },
  {
   "cell_type": "code",
   "execution_count": 26,
   "id": "67dda4de",
   "metadata": {},
   "outputs": [
    {
     "data": {
      "text/html": [
       "<div>\n",
       "<style scoped>\n",
       "    .dataframe tbody tr th:only-of-type {\n",
       "        vertical-align: middle;\n",
       "    }\n",
       "\n",
       "    .dataframe tbody tr th {\n",
       "        vertical-align: top;\n",
       "    }\n",
       "\n",
       "    .dataframe thead th {\n",
       "        text-align: right;\n",
       "    }\n",
       "</style>\n",
       "<table border=\"1\" class=\"dataframe\">\n",
       "  <thead>\n",
       "    <tr style=\"text-align: right;\">\n",
       "      <th></th>\n",
       "      <th>sentiment</th>\n",
       "      <th>id</th>\n",
       "      <th>date</th>\n",
       "      <th>flag</th>\n",
       "      <th>user</th>\n",
       "      <th>text</th>\n",
       "    </tr>\n",
       "  </thead>\n",
       "  <tbody>\n",
       "    <tr>\n",
       "      <th>1392041</th>\n",
       "      <td>4</td>\n",
       "      <td>2053377456</td>\n",
       "      <td>Sat Jun 06 04:20:11 PDT 2009</td>\n",
       "      <td>NO_QUERY</td>\n",
       "      <td>hayleystead</td>\n",
       "      <td>drop it like its hot....well at least like bra...</td>\n",
       "    </tr>\n",
       "    <tr>\n",
       "      <th>1047578</th>\n",
       "      <td>4</td>\n",
       "      <td>1958056810</td>\n",
       "      <td>Fri May 29 02:30:50 PDT 2009</td>\n",
       "      <td>NO_QUERY</td>\n",
       "      <td>_emmajane_</td>\n",
       "      <td>@liverpoolweath sounds like a plan</td>\n",
       "    </tr>\n",
       "    <tr>\n",
       "      <th>61245</th>\n",
       "      <td>0</td>\n",
       "      <td>1686658032</td>\n",
       "      <td>Sun May 03 06:18:19 PDT 2009</td>\n",
       "      <td>NO_QUERY</td>\n",
       "      <td>Blkdrgn2</td>\n",
       "      <td>is home and can now officially focus on her wo...</td>\n",
       "    </tr>\n",
       "    <tr>\n",
       "      <th>1238956</th>\n",
       "      <td>4</td>\n",
       "      <td>1993410908</td>\n",
       "      <td>Mon Jun 01 10:20:01 PDT 2009</td>\n",
       "      <td>NO_QUERY</td>\n",
       "      <td>Spankzilla</td>\n",
       "      <td>@Jessica_Ren I didn't say you said anything, I...</td>\n",
       "    </tr>\n",
       "    <tr>\n",
       "      <th>144691</th>\n",
       "      <td>0</td>\n",
       "      <td>1882023870</td>\n",
       "      <td>Fri May 22 06:04:34 PDT 2009</td>\n",
       "      <td>NO_QUERY</td>\n",
       "      <td>T3mpt4tioN</td>\n",
       "      <td>Found the PERFECT house! I just hope hope hope...</td>\n",
       "    </tr>\n",
       "    <tr>\n",
       "      <th>...</th>\n",
       "      <td>...</td>\n",
       "      <td>...</td>\n",
       "      <td>...</td>\n",
       "      <td>...</td>\n",
       "      <td>...</td>\n",
       "      <td>...</td>\n",
       "    </tr>\n",
       "    <tr>\n",
       "      <th>1285988</th>\n",
       "      <td>4</td>\n",
       "      <td>2002203697</td>\n",
       "      <td>Tue Jun 02 03:29:30 PDT 2009</td>\n",
       "      <td>NO_QUERY</td>\n",
       "      <td>LACarey5</td>\n",
       "      <td>is super pumped for the first day of finals!  ...</td>\n",
       "    </tr>\n",
       "    <tr>\n",
       "      <th>555593</th>\n",
       "      <td>0</td>\n",
       "      <td>2204099578</td>\n",
       "      <td>Wed Jun 17 01:19:23 PDT 2009</td>\n",
       "      <td>NO_QUERY</td>\n",
       "      <td>verresnoirs</td>\n",
       "      <td>6pm is taking ages to arrive.</td>\n",
       "    </tr>\n",
       "    <tr>\n",
       "      <th>507893</th>\n",
       "      <td>0</td>\n",
       "      <td>2189019242</td>\n",
       "      <td>Mon Jun 15 23:03:43 PDT 2009</td>\n",
       "      <td>NO_QUERY</td>\n",
       "      <td>Zeroness27</td>\n",
       "      <td>@Stephiebutton Whoa! Still no sign of kevin vo...</td>\n",
       "    </tr>\n",
       "    <tr>\n",
       "      <th>1478403</th>\n",
       "      <td>4</td>\n",
       "      <td>2066480479</td>\n",
       "      <td>Sun Jun 07 10:36:02 PDT 2009</td>\n",
       "      <td>NO_QUERY</td>\n",
       "      <td>lwmedium</td>\n",
       "      <td>Open your heart and soul and let the love flow...</td>\n",
       "    </tr>\n",
       "    <tr>\n",
       "      <th>640899</th>\n",
       "      <td>0</td>\n",
       "      <td>2235107057</td>\n",
       "      <td>Fri Jun 19 00:26:34 PDT 2009</td>\n",
       "      <td>NO_QUERY</td>\n",
       "      <td>alycalee</td>\n",
       "      <td>wants something BOMB.COM to drink right now bu...</td>\n",
       "    </tr>\n",
       "  </tbody>\n",
       "</table>\n",
       "<p>75000 rows × 6 columns</p>\n",
       "</div>"
      ],
      "text/plain": [
       "         sentiment          id                          date      flag  \\\n",
       "1392041          4  2053377456  Sat Jun 06 04:20:11 PDT 2009  NO_QUERY   \n",
       "1047578          4  1958056810  Fri May 29 02:30:50 PDT 2009  NO_QUERY   \n",
       "61245            0  1686658032  Sun May 03 06:18:19 PDT 2009  NO_QUERY   \n",
       "1238956          4  1993410908  Mon Jun 01 10:20:01 PDT 2009  NO_QUERY   \n",
       "144691           0  1882023870  Fri May 22 06:04:34 PDT 2009  NO_QUERY   \n",
       "...            ...         ...                           ...       ...   \n",
       "1285988          4  2002203697  Tue Jun 02 03:29:30 PDT 2009  NO_QUERY   \n",
       "555593           0  2204099578  Wed Jun 17 01:19:23 PDT 2009  NO_QUERY   \n",
       "507893           0  2189019242  Mon Jun 15 23:03:43 PDT 2009  NO_QUERY   \n",
       "1478403          4  2066480479  Sun Jun 07 10:36:02 PDT 2009  NO_QUERY   \n",
       "640899           0  2235107057  Fri Jun 19 00:26:34 PDT 2009  NO_QUERY   \n",
       "\n",
       "                user                                               text  \n",
       "1392041  hayleystead  drop it like its hot....well at least like bra...  \n",
       "1047578   _emmajane_                @liverpoolweath sounds like a plan   \n",
       "61245       Blkdrgn2  is home and can now officially focus on her wo...  \n",
       "1238956   Spankzilla  @Jessica_Ren I didn't say you said anything, I...  \n",
       "144691    T3mpt4tioN  Found the PERFECT house! I just hope hope hope...  \n",
       "...              ...                                                ...  \n",
       "1285988     LACarey5  is super pumped for the first day of finals!  ...  \n",
       "555593   verresnoirs                     6pm is taking ages to arrive.   \n",
       "507893    Zeroness27  @Stephiebutton Whoa! Still no sign of kevin vo...  \n",
       "1478403     lwmedium  Open your heart and soul and let the love flow...  \n",
       "640899      alycalee  wants something BOMB.COM to drink right now bu...  \n",
       "\n",
       "[75000 rows x 6 columns]"
      ]
     },
     "execution_count": 26,
     "metadata": {},
     "output_type": "execute_result"
    }
   ],
   "source": [
    "#tweets_train_df=tweets_train_df.sample(n = 75000)\n",
    "#tweets_train_df"
   ]
  },
  {
   "cell_type": "code",
   "execution_count": 27,
   "id": "d0ab359c",
   "metadata": {},
   "outputs": [
    {
     "data": {
      "text/html": [
       "<div>\n",
       "<style scoped>\n",
       "    .dataframe tbody tr th:only-of-type {\n",
       "        vertical-align: middle;\n",
       "    }\n",
       "\n",
       "    .dataframe tbody tr th {\n",
       "        vertical-align: top;\n",
       "    }\n",
       "\n",
       "    .dataframe thead th {\n",
       "        text-align: right;\n",
       "    }\n",
       "</style>\n",
       "<table border=\"1\" class=\"dataframe\">\n",
       "  <thead>\n",
       "    <tr style=\"text-align: right;\">\n",
       "      <th></th>\n",
       "      <th>sentiment</th>\n",
       "      <th>id</th>\n",
       "      <th>date</th>\n",
       "      <th>flag</th>\n",
       "      <th>user</th>\n",
       "      <th>text</th>\n",
       "      <th>processed_text</th>\n",
       "    </tr>\n",
       "  </thead>\n",
       "  <tbody>\n",
       "    <tr>\n",
       "      <th>1392041</th>\n",
       "      <td>4</td>\n",
       "      <td>2053377456</td>\n",
       "      <td>Sat Jun 06 04:20:11 PDT 2009</td>\n",
       "      <td>NO_QUERY</td>\n",
       "      <td>hayleystead</td>\n",
       "      <td>drop it like its hot....well at least like bra...</td>\n",
       "      <td>drop like hotwell least like bradie ROFL</td>\n",
       "    </tr>\n",
       "    <tr>\n",
       "      <th>1047578</th>\n",
       "      <td>4</td>\n",
       "      <td>1958056810</td>\n",
       "      <td>Fri May 29 02:30:50 PDT 2009</td>\n",
       "      <td>NO_QUERY</td>\n",
       "      <td>_emmajane_</td>\n",
       "      <td>@liverpoolweath sounds like a plan</td>\n",
       "      <td>sounds like plan</td>\n",
       "    </tr>\n",
       "    <tr>\n",
       "      <th>61245</th>\n",
       "      <td>0</td>\n",
       "      <td>1686658032</td>\n",
       "      <td>Sun May 03 06:18:19 PDT 2009</td>\n",
       "      <td>NO_QUERY</td>\n",
       "      <td>Blkdrgn2</td>\n",
       "      <td>is home and can now officially focus on her wo...</td>\n",
       "      <td>home officially focus workout wo worry classes...</td>\n",
       "    </tr>\n",
       "    <tr>\n",
       "      <th>1238956</th>\n",
       "      <td>4</td>\n",
       "      <td>1993410908</td>\n",
       "      <td>Mon Jun 01 10:20:01 PDT 2009</td>\n",
       "      <td>NO_QUERY</td>\n",
       "      <td>Spankzilla</td>\n",
       "      <td>@Jessica_Ren I didn't say you said anything, I...</td>\n",
       "      <td>didnt say said anything asked worked</td>\n",
       "    </tr>\n",
       "    <tr>\n",
       "      <th>144691</th>\n",
       "      <td>0</td>\n",
       "      <td>1882023870</td>\n",
       "      <td>Fri May 22 06:04:34 PDT 2009</td>\n",
       "      <td>NO_QUERY</td>\n",
       "      <td>T3mpt4tioN</td>\n",
       "      <td>Found the PERFECT house! I just hope hope hope...</td>\n",
       "      <td>Found PERFECT house hope hope hope monthly pay...</td>\n",
       "    </tr>\n",
       "  </tbody>\n",
       "</table>\n",
       "</div>"
      ],
      "text/plain": [
       "         sentiment          id                          date      flag  \\\n",
       "1392041          4  2053377456  Sat Jun 06 04:20:11 PDT 2009  NO_QUERY   \n",
       "1047578          4  1958056810  Fri May 29 02:30:50 PDT 2009  NO_QUERY   \n",
       "61245            0  1686658032  Sun May 03 06:18:19 PDT 2009  NO_QUERY   \n",
       "1238956          4  1993410908  Mon Jun 01 10:20:01 PDT 2009  NO_QUERY   \n",
       "144691           0  1882023870  Fri May 22 06:04:34 PDT 2009  NO_QUERY   \n",
       "\n",
       "                user                                               text  \\\n",
       "1392041  hayleystead  drop it like its hot....well at least like bra...   \n",
       "1047578   _emmajane_                @liverpoolweath sounds like a plan    \n",
       "61245       Blkdrgn2  is home and can now officially focus on her wo...   \n",
       "1238956   Spankzilla  @Jessica_Ren I didn't say you said anything, I...   \n",
       "144691    T3mpt4tioN  Found the PERFECT house! I just hope hope hope...   \n",
       "\n",
       "                                            processed_text  \n",
       "1392041           drop like hotwell least like bradie ROFL  \n",
       "1047578                                   sounds like plan  \n",
       "61245    home officially focus workout wo worry classes...  \n",
       "1238956               didnt say said anything asked worked  \n",
       "144691   Found PERFECT house hope hope hope monthly pay...  "
      ]
     },
     "execution_count": 27,
     "metadata": {},
     "output_type": "execute_result"
    }
   ],
   "source": [
    "tweets_train_df['processed_text'] = tweets_train_df['text'].apply(get_text_processing)\n",
    "tweets_train_df.head()"
   ]
  },
  {
   "cell_type": "code",
   "execution_count": 28,
   "id": "11dc9bef",
   "metadata": {},
   "outputs": [
    {
     "data": {
      "text/html": [
       "<div>\n",
       "<style scoped>\n",
       "    .dataframe tbody tr th:only-of-type {\n",
       "        vertical-align: middle;\n",
       "    }\n",
       "\n",
       "    .dataframe tbody tr th {\n",
       "        vertical-align: top;\n",
       "    }\n",
       "\n",
       "    .dataframe thead th {\n",
       "        text-align: right;\n",
       "    }\n",
       "</style>\n",
       "<table border=\"1\" class=\"dataframe\">\n",
       "  <thead>\n",
       "    <tr style=\"text-align: right;\">\n",
       "      <th></th>\n",
       "      <th>processed_text</th>\n",
       "      <th>sentiment</th>\n",
       "    </tr>\n",
       "  </thead>\n",
       "  <tbody>\n",
       "    <tr>\n",
       "      <th>1392041</th>\n",
       "      <td>drop like hotwell least like bradie ROFL</td>\n",
       "      <td>4</td>\n",
       "    </tr>\n",
       "    <tr>\n",
       "      <th>1047578</th>\n",
       "      <td>sounds like plan</td>\n",
       "      <td>4</td>\n",
       "    </tr>\n",
       "    <tr>\n",
       "      <th>61245</th>\n",
       "      <td>home officially focus workout wo worry classes...</td>\n",
       "      <td>0</td>\n",
       "    </tr>\n",
       "    <tr>\n",
       "      <th>1238956</th>\n",
       "      <td>didnt say said anything asked worked</td>\n",
       "      <td>4</td>\n",
       "    </tr>\n",
       "    <tr>\n",
       "      <th>144691</th>\n",
       "      <td>Found PERFECT house hope hope hope monthly pay...</td>\n",
       "      <td>0</td>\n",
       "    </tr>\n",
       "  </tbody>\n",
       "</table>\n",
       "</div>"
      ],
      "text/plain": [
       "                                            processed_text  sentiment\n",
       "1392041           drop like hotwell least like bradie ROFL          4\n",
       "1047578                                   sounds like plan          4\n",
       "61245    home officially focus workout wo worry classes...          0\n",
       "1238956               didnt say said anything asked worked          4\n",
       "144691   Found PERFECT house hope hope hope monthly pay...          0"
      ]
     },
     "execution_count": 28,
     "metadata": {},
     "output_type": "execute_result"
    }
   ],
   "source": [
    "tweets_train_df = tweets_train_df[['processed_text', 'sentiment']]\n",
    "tweets_train_df.head()"
   ]
  },
  {
   "cell_type": "code",
   "execution_count": 29,
   "id": "28c11f7d",
   "metadata": {},
   "outputs": [],
   "source": [
    "tweets_train_df['sentiment'].replace([0, 4],['negative', 'positive'],inplace=True)"
   ]
  },
  {
   "cell_type": "code",
   "execution_count": 30,
   "id": "3c3d7c76",
   "metadata": {},
   "outputs": [
    {
     "data": {
      "text/html": [
       "<div>\n",
       "<style scoped>\n",
       "    .dataframe tbody tr th:only-of-type {\n",
       "        vertical-align: middle;\n",
       "    }\n",
       "\n",
       "    .dataframe tbody tr th {\n",
       "        vertical-align: top;\n",
       "    }\n",
       "\n",
       "    .dataframe thead th {\n",
       "        text-align: right;\n",
       "    }\n",
       "</style>\n",
       "<table border=\"1\" class=\"dataframe\">\n",
       "  <thead>\n",
       "    <tr style=\"text-align: right;\">\n",
       "      <th></th>\n",
       "      <th>processed_text</th>\n",
       "      <th>negative</th>\n",
       "      <th>positive</th>\n",
       "    </tr>\n",
       "  </thead>\n",
       "  <tbody>\n",
       "    <tr>\n",
       "      <th>1392041</th>\n",
       "      <td>drop like hotwell least like bradie ROFL</td>\n",
       "      <td>0</td>\n",
       "      <td>1</td>\n",
       "    </tr>\n",
       "    <tr>\n",
       "      <th>1047578</th>\n",
       "      <td>sounds like plan</td>\n",
       "      <td>0</td>\n",
       "      <td>1</td>\n",
       "    </tr>\n",
       "    <tr>\n",
       "      <th>61245</th>\n",
       "      <td>home officially focus workout wo worry classes...</td>\n",
       "      <td>1</td>\n",
       "      <td>0</td>\n",
       "    </tr>\n",
       "    <tr>\n",
       "      <th>1238956</th>\n",
       "      <td>didnt say said anything asked worked</td>\n",
       "      <td>0</td>\n",
       "      <td>1</td>\n",
       "    </tr>\n",
       "    <tr>\n",
       "      <th>144691</th>\n",
       "      <td>Found PERFECT house hope hope hope monthly pay...</td>\n",
       "      <td>1</td>\n",
       "      <td>0</td>\n",
       "    </tr>\n",
       "  </tbody>\n",
       "</table>\n",
       "</div>"
      ],
      "text/plain": [
       "                                            processed_text  negative  positive\n",
       "1392041           drop like hotwell least like bradie ROFL         0         1\n",
       "1047578                                   sounds like plan         0         1\n",
       "61245    home officially focus workout wo worry classes...         1         0\n",
       "1238956               didnt say said anything asked worked         0         1\n",
       "144691   Found PERFECT house hope hope hope monthly pay...         1         0"
      ]
     },
     "execution_count": 30,
     "metadata": {},
     "output_type": "execute_result"
    }
   ],
   "source": [
    "one_hot = pd.get_dummies(tweets_train_df[\"sentiment\"])\n",
    "tweets_train_df.drop(['sentiment'],axis=1,inplace=True)\n",
    "tweets_train_df = pd.concat([tweets_train_df,one_hot],axis=1)\n",
    "tweets_train_df.head()"
   ]
  },
  {
   "cell_type": "code",
   "execution_count": 31,
   "id": "bae5c5df",
   "metadata": {},
   "outputs": [],
   "source": [
    "X = tweets_train_df['processed_text'].values\n",
    "y = tweets_train_df.drop('processed_text', axis=1).values\n",
    "X_train, X_test, y_train, y_test = train_test_split(X, y, test_size=0.30, random_state=42)"
   ]
  },
  {
   "cell_type": "code",
   "execution_count": 32,
   "id": "2bccde96",
   "metadata": {},
   "outputs": [],
   "source": [
    "vect = CountVectorizer()\n",
    "X_train = vect.fit_transform(X_train)\n",
    "X_test = vect.transform(X_test)"
   ]
  },
  {
   "cell_type": "code",
   "execution_count": 33,
   "id": "0ee2da13",
   "metadata": {},
   "outputs": [],
   "source": [
    "tfidf = TfidfTransformer()\n",
    "X_train = tfidf.fit_transform(X_train)\n",
    "X_test = tfidf.transform(X_test)\n",
    "X_train = X_train.toarray()\n",
    "X_test = X_test.toarray()"
   ]
  },
  {
   "cell_type": "code",
   "execution_count": 34,
   "id": "8ed7efe3",
   "metadata": {},
   "outputs": [],
   "source": [
    "model = Sequential()\n",
    "\n",
    "model.add(Dense(units=12673,activation='relu'))\n",
    "model.add(Dropout(0.5))\n",
    "\n",
    "model.add(Dense(units=4000,activation='relu'))\n",
    "model.add(Dropout(0.5))\n",
    "\n",
    "model.add(Dense(units=500,activation='relu'))\n",
    "model.add(Dropout(0.5))\n",
    "\n",
    "#units=2 as there are 2 categorical values as target\n",
    "model.add(Dense(units=2, activation='softmax'))\n",
    "\n",
    "opt=tf.keras.optimizers.Adam(learning_rate=0.001)\n",
    "model.compile(loss='categorical_crossentropy', optimizer=opt, metrics=['accuracy'])\n",
    "\n",
    "early_stop = EarlyStopping(monitor='val_loss', mode='min', verbose=0, patience=10)"
   ]
  },
  {
   "cell_type": "code",
   "execution_count": 35,
   "id": "332ef605",
   "metadata": {},
   "outputs": [
    {
     "name": "stdout",
     "output_type": "stream",
     "text": [
      "Epoch 1/100\n",
      "206/206 [==============================] - 1052s 5s/step - loss: 0.5322 - accuracy: 0.7286 - val_loss: 0.5028 - val_accuracy: 0.7594\n",
      "Epoch 2/100\n",
      "206/206 [==============================] - 1030s 5s/step - loss: 0.3142 - accuracy: 0.8694 - val_loss: 0.6012 - val_accuracy: 0.7432\n",
      "Epoch 3/100\n",
      "206/206 [==============================] - 1025s 5s/step - loss: 0.1142 - accuracy: 0.9569 - val_loss: 0.9194 - val_accuracy: 0.7244\n",
      "Epoch 4/100\n",
      "206/206 [==============================] - 1029s 5s/step - loss: 0.0420 - accuracy: 0.9838 - val_loss: 1.1446 - val_accuracy: 0.7287\n",
      "Epoch 5/100\n",
      "206/206 [==============================] - 1028s 5s/step - loss: 0.0258 - accuracy: 0.9889 - val_loss: 1.4632 - val_accuracy: 0.7258\n",
      "Epoch 6/100\n",
      "206/206 [==============================] - 1034s 5s/step - loss: 0.0195 - accuracy: 0.9915 - val_loss: 1.4405 - val_accuracy: 0.7269\n",
      "Epoch 7/100\n",
      "206/206 [==============================] - 1027s 5s/step - loss: 0.0167 - accuracy: 0.9926 - val_loss: 1.5746 - val_accuracy: 0.7281\n",
      "Epoch 8/100\n",
      "206/206 [==============================] - 1046s 5s/step - loss: 0.0166 - accuracy: 0.9921 - val_loss: 1.5572 - val_accuracy: 0.7303\n",
      "Epoch 9/100\n",
      "206/206 [==============================] - 1030s 5s/step - loss: 0.0167 - accuracy: 0.9921 - val_loss: 1.6267 - val_accuracy: 0.7275\n",
      "Epoch 10/100\n",
      "206/206 [==============================] - 1030s 5s/step - loss: 0.0152 - accuracy: 0.9926 - val_loss: 1.7309 - val_accuracy: 0.7225\n",
      "Epoch 11/100\n",
      "206/206 [==============================] - 1027s 5s/step - loss: 0.0176 - accuracy: 0.9922 - val_loss: 1.5044 - val_accuracy: 0.7260\n"
     ]
    },
    {
     "data": {
      "text/plain": [
       "<keras.callbacks.History at 0x185c5448880>"
      ]
     },
     "execution_count": 35,
     "metadata": {},
     "output_type": "execute_result"
    }
   ],
   "source": [
    "model.fit(x=X_train, y=y_train, batch_size=256, epochs=100, validation_data=(X_test, y_test), verbose=1, callbacks=early_stop)"
   ]
  },
  {
   "cell_type": "code",
   "execution_count": 36,
   "id": "7dca28b5",
   "metadata": {},
   "outputs": [
    {
     "name": "stdout",
     "output_type": "stream",
     "text": [
      "352/352 [==============================] - 106s 300ms/step - loss: 1.5044 - accuracy: 0.7260\n",
      "Test accuracy: 0.7259555459022522\n"
     ]
    }
   ],
   "source": [
    "model_score = model.evaluate(X_test, y_test, batch_size=64, verbose=1)\n",
    "print('Test accuracy:', model_score[1])"
   ]
  },
  {
   "cell_type": "code",
   "execution_count": 37,
   "id": "a085ec1c",
   "metadata": {},
   "outputs": [
    {
     "data": {
      "text/plain": [
       "(22500, 46475)"
      ]
     },
     "execution_count": 37,
     "metadata": {},
     "output_type": "execute_result"
    }
   ],
   "source": [
    "X_test.shape"
   ]
  },
  {
   "cell_type": "code",
   "execution_count": 38,
   "id": "75aa9889",
   "metadata": {},
   "outputs": [],
   "source": [
    "def predict_sentiment(df, vect, tfidf, model):\n",
    "    df['processed_text'] = df['text'].apply(get_text_processing)\n",
    "    X_tweets=df['processed_text']\n",
    "    X_tweets = vect.transform(X_tweets)\n",
    "\n",
    "    X_tweets = tfidf.transform(X_tweets)\n",
    "    X_tweets = X_tweets.toarray()\n",
    "\n",
    "    tweets_predicted = model.predict(X_tweets)\n",
    "\n",
    "    df[[\"neg_score\", \"pos_score\"]] = tweets_predicted\n",
    "    df[\"sentiment\"] = np.where(df[\"neg_score\"] > 0.5, 'negative', 'positive')\n",
    "    return df"
   ]
  },
  {
   "cell_type": "code",
   "execution_count": 39,
   "id": "4d6cb873",
   "metadata": {},
   "outputs": [
    {
     "name": "stdout",
     "output_type": "stream",
     "text": [
      "6/6 [==============================] - 2s 236ms/step\n",
      "6/6 [==============================] - 1s 234ms/step\n"
     ]
    }
   ],
   "source": [
    "tweets_c1=predict_sentiment(tweets_c1_df,vect, tfidf, model)\n",
    "tweets_c1[\"Area\"]=country1\n",
    "tweets_c2=predict_sentiment(tweets_c2_df,vect, tfidf, model)\n",
    "tweets_c2[\"Area\"]='Worldwide'\n",
    "\n"
   ]
  },
  {
   "cell_type": "code",
   "execution_count": 40,
   "id": "490bc601",
   "metadata": {},
   "outputs": [],
   "source": [
    "total_tweets=pd.concat([tweets_c1, tweets_c2])"
   ]
  },
  {
   "cell_type": "code",
   "execution_count": 41,
   "id": "b46e5d99",
   "metadata": {},
   "outputs": [
    {
     "data": {
      "image/png": "[encoded data removed]",
      "text/plain": [
       "<Figure size 1000x500 with 1 Axes>"
      ]
     },
     "metadata": {},
     "output_type": "display_data"
    }
   ],
   "source": [
    "plt.figure(figsize=(10,5))\n",
    "g = sns.countplot(data=total_tweets, x=\"sentiment\", hue=\"Area\", palette=\"Blues\");\n",
    "g.set_title('Sentiment Analysis on Most Recent Tweets related to Agriculture')\n",
    "\n",
    "plt.show();"
   ]
  },
  {
   "cell_type": "code",
   "execution_count": null,
   "id": "ef84b651",
   "metadata": {},
   "outputs": [],
   "source": []
  },
  {
   "cell_type": "code",
   "execution_count": null,
   "id": "adb2609f",
   "metadata": {},
   "outputs": [],
   "source": []
  }
 ],
 "metadata": {
  "kernelspec": {
   "display_name": "Python 3 (ipykernel)",
   "language": "python",
   "name": "python3"
  },
  "language_info": {
   "codemirror_mode": {
    "name": "ipython",
    "version": 3
   },
   "file_extension": ".py",
   "mimetype": "text/x-python",
   "name": "python",
   "nbconvert_exporter": "python",
   "pygments_lexer": "ipython3",
   "version": "3.9.13"
  }
 },
 "nbformat": 4,
 "nbformat_minor": 5
}
